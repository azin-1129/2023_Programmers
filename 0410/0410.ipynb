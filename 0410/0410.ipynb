{
  "nbformat": 4,
  "nbformat_minor": 0,
  "metadata": {
    "colab": {
      "provenance": [],
      "toc_visible": true
    },
    "kernelspec": {
      "name": "python3",
      "display_name": "Python 3"
    },
    "language_info": {
      "name": "python"
    }
  },
  "cells": [
    {
      "cell_type": "markdown",
      "source": [
        "# 1.최소 직사각형"
      ],
      "metadata": {
        "id": "3H8WKlCFzDfx"
      }
    },
    {
      "cell_type": "markdown",
      "source": [
        "28분 소요"
      ],
      "metadata": {
        "id": "JXqVWyBm8u_5"
      }
    },
    {
      "cell_type": "code",
      "execution_count": 19,
      "metadata": {
        "colab": {
          "base_uri": "https://localhost:8080/"
        },
        "id": "FfyL_eJwuYaE",
        "outputId": "2c4f282d-f8e7-4867-dd85-553afa2b63dc"
      },
      "outputs": [
        {
          "output_type": "stream",
          "name": "stdout",
          "text": [
            "[10, 7]\n",
            "10 7\n",
            "[12, 3]\n",
            "12 7\n",
            "[8, 15]\n",
            "스와핑\n",
            "15 8\n",
            "[14, 7]\n",
            "15 8\n",
            "[5, 15]\n",
            "스와핑\n",
            "15 8\n"
          ]
        }
      ],
      "source": [
        "sizes=[[10, 7], [12, 3], [8, 15], [14, 7], [5, 15]]\n",
        "w,h=0,0\n",
        "\n",
        "for s in sizes:\n",
        "    print(s)\n",
        "    if s[0]<s[1]: # w<h\n",
        "        if w<s[1]:\n",
        "            w=s[1]\n",
        "        if h<s[0]:\n",
        "            h=s[0]\n",
        "        print('스와핑')\n",
        "        print(w,h)\n",
        "        continue\n",
        "    if w<s[0]:\n",
        "        w=s[0]\n",
        "    if h<s[1]:\n",
        "        h=s[1]\n",
        "    print(w,h)"
      ]
    },
    {
      "cell_type": "markdown",
      "source": [
        "## 제출한 코드"
      ],
      "metadata": {
        "id": "0FMjQ8bM4RTp"
      }
    },
    {
      "cell_type": "code",
      "source": [
        "def solution(sizes):\n",
        "    w,h=0,0\n",
        "\n",
        "    for s in sizes:\n",
        "        if s[0]<s[1]: # w<h\n",
        "            if w<s[1]:\n",
        "                w=s[1]\n",
        "            if h<s[0]:\n",
        "                h=s[0]\n",
        "            continue\n",
        "        if w<s[0]:\n",
        "            w=s[0]\n",
        "        if h<s[1]:\n",
        "            h=s[1]\n",
        "        \n",
        "    return w*h"
      ],
      "metadata": {
        "id": "BX4oBorH4RnS"
      },
      "execution_count": null,
      "outputs": []
    },
    {
      "cell_type": "markdown",
      "source": [
        "---"
      ],
      "metadata": {
        "id": "NUIsHyNG3tdK"
      }
    },
    {
      "cell_type": "markdown",
      "source": [
        "# 2.[1차] 비밀지도"
      ],
      "metadata": {
        "id": "u_K45tPt3it5"
      }
    },
    {
      "cell_type": "markdown",
      "source": [
        "20분 소요"
      ],
      "metadata": {
        "id": "O5MbKnSR8wnR"
      }
    },
    {
      "cell_type": "code",
      "source": [
        "bin(9), bin(30), bin(0)"
      ],
      "metadata": {
        "colab": {
          "base_uri": "https://localhost:8080/"
        },
        "id": "KfU73Ohlu2kh",
        "outputId": "965b0608-cdb7-4b13-f749-d5d38bd9cd88"
      },
      "execution_count": 26,
      "outputs": [
        {
          "output_type": "execute_result",
          "data": {
            "text/plain": [
              "('0b1001', '0b11110', '0b0')"
            ]
          },
          "metadata": {},
          "execution_count": 26
        }
      ]
    },
    {
      "cell_type": "code",
      "source": [
        "x='0'+bin(9)[2:]"
      ],
      "metadata": {
        "id": "BFB8MQ-PxHsL"
      },
      "execution_count": 34,
      "outputs": []
    },
    {
      "cell_type": "code",
      "source": [
        "y=bin(30)[2:]"
      ],
      "metadata": {
        "id": "pqd9nBNt0_uQ"
      },
      "execution_count": 35,
      "outputs": []
    },
    {
      "cell_type": "code",
      "source": [
        "res=\"\"\n",
        "for i in range(5):\n",
        "    if '1' in [x[i], y[i]]:\n",
        "        res+='#'\n",
        "    else:\n",
        "        res+=' '\n",
        "\n",
        "print(res)"
      ],
      "metadata": {
        "colab": {
          "base_uri": "https://localhost:8080/"
        },
        "id": "LZYdw1Vm1TlM",
        "outputId": "9dfa2269-22d9-4dbe-a757-a901c2fe7330"
      },
      "execution_count": 38,
      "outputs": [
        {
          "output_type": "stream",
          "name": "stdout",
          "text": [
            "#####\n"
          ]
        }
      ]
    },
    {
      "cell_type": "code",
      "source": [
        "n=5\n",
        "arr1=[9,20,28,18,11]\n",
        "arr2=[30,1,21,17,28]\n",
        "\n",
        "result=[]\n",
        "for i in range(n):\n",
        "    x=str(bin(arr1[i])[2:])\n",
        "    y=str(bin(arr2[i])[2:])\n",
        "\n",
        "    if len(x)<5:\n",
        "        x=(5-len(x))*'0'+x\n",
        "    if len(y)<5:\n",
        "        y=(5-len(y))*'0'+y # 패딩\n",
        "\n",
        "    res=\"\"\n",
        "    for i in range(n):\n",
        "        if '1' in [x[i], y[i]]:\n",
        "            res+='#'\n",
        "        else:\n",
        "            res+=' '\n",
        "\n",
        "    result.append(res)\n",
        "\n",
        "print(result)"
      ],
      "metadata": {
        "colab": {
          "base_uri": "https://localhost:8080/"
        },
        "id": "T3o1cUCt1szY",
        "outputId": "c56a4012-8492-468c-f1d6-d44ce0ab2ae8"
      },
      "execution_count": 43,
      "outputs": [
        {
          "output_type": "stream",
          "name": "stdout",
          "text": [
            "['#####', '# # #', '### #', '#  ##', '#####']\n"
          ]
        }
      ]
    },
    {
      "cell_type": "markdown",
      "source": [
        "## 제출한 코드"
      ],
      "metadata": {
        "id": "pbthLhna3zdx"
      }
    },
    {
      "cell_type": "code",
      "source": [
        "def solution(n, arr1, arr2):\n",
        "    result=[]\n",
        "    for i in range(n):\n",
        "        x=str(bin(arr1[i])[2:])\n",
        "        y=str(bin(arr2[i])[2:])\n",
        "\n",
        "        if len(x)<n:\n",
        "            x=(n-len(x))*'0'+x\n",
        "        if len(y)<n:\n",
        "            y=(n-len(y))*'0'+y # 패딩\n",
        "\n",
        "        res=\"\"\n",
        "        for i in range(n):\n",
        "            if '1' in [x[i], y[i]]:\n",
        "                res+='#'\n",
        "            else:\n",
        "                res+=' '\n",
        " \n",
        "        result.append(res)\n",
        "\n",
        "    return result"
      ],
      "metadata": {
        "id": "Vuja2pta24mz"
      },
      "execution_count": 44,
      "outputs": []
    },
    {
      "cell_type": "markdown",
      "source": [
        "---"
      ],
      "metadata": {
        "id": "d8twTPa25pVZ"
      }
    },
    {
      "cell_type": "markdown",
      "source": [
        "#3.문자열 내 마음대로 정렬하기"
      ],
      "metadata": {
        "id": "zcCj91J18pUR"
      }
    },
    {
      "cell_type": "markdown",
      "source": [
        "17분 소요"
      ],
      "metadata": {
        "id": "SPK3I4MQ80Wh"
      }
    },
    {
      "cell_type": "code",
      "source": [
        "strings=['noon','moon','aoon']\n",
        "strings.sort()\n",
        "sorted(strings,key=lambda x:x[1:])"
      ],
      "metadata": {
        "colab": {
          "base_uri": "https://localhost:8080/"
        },
        "id": "r0-1A0383A7F",
        "outputId": "df4228a0-1bc3-42f3-a53f-b24f1c3f2466"
      },
      "execution_count": 53,
      "outputs": [
        {
          "output_type": "execute_result",
          "data": {
            "text/plain": [
              "['aoon', 'moon', 'noon']"
            ]
          },
          "metadata": {},
          "execution_count": 53
        }
      ]
    },
    {
      "cell_type": "code",
      "source": [
        "'abec' < 'abed'"
      ],
      "metadata": {
        "colab": {
          "base_uri": "https://localhost:8080/"
        },
        "id": "c4GM4a7K53uY",
        "outputId": "3a92be63-1301-4b5a-d664-8133b9761c3e"
      },
      "execution_count": 50,
      "outputs": [
        {
          "output_type": "execute_result",
          "data": {
            "text/plain": [
              "True"
            ]
          },
          "metadata": {},
          "execution_count": 50
        }
      ]
    },
    {
      "cell_type": "markdown",
      "source": [
        "## 제출한 코드"
      ],
      "metadata": {
        "id": "UEezzkjJ82LC"
      }
    },
    {
      "cell_type": "code",
      "source": [
        "def solution(strings, n):\n",
        "    strings.sort()\n",
        "    return sorted(strings,key=lambda x:x[n])"
      ],
      "metadata": {
        "id": "c6KvzOML65bq"
      },
      "execution_count": null,
      "outputs": []
    },
    {
      "cell_type": "markdown",
      "source": [
        "---"
      ],
      "metadata": {
        "id": "S2nNEHTW86ch"
      }
    },
    {
      "cell_type": "markdown",
      "source": [
        "# 4. 숫자 문자열과 영단어"
      ],
      "metadata": {
        "id": "mc1IWj3K88fi"
      }
    },
    {
      "cell_type": "markdown",
      "source": [
        "25분 소요"
      ],
      "metadata": {
        "id": "YSq6Y0VgDr_x"
      }
    },
    {
      "cell_type": "code",
      "source": [
        "string='abcd'\n",
        "\n",
        "string.replace(string[0],'xx')"
      ],
      "metadata": {
        "colab": {
          "base_uri": "https://localhost:8080/",
          "height": 35
        },
        "id": "1J4_RQQM86za",
        "outputId": "38f609bc-2ed4-42fe-9459-8b1bcb98d163"
      },
      "execution_count": 54,
      "outputs": [
        {
          "output_type": "execute_result",
          "data": {
            "text/plain": [
              "'xxbcd'"
            ],
            "application/vnd.google.colaboratory.intrinsic+json": {
              "type": "string"
            }
          },
          "metadata": {},
          "execution_count": 54
        }
      ]
    },
    {
      "cell_type": "code",
      "source": [
        "range(ord('0'), ord('9'))"
      ],
      "metadata": {
        "colab": {
          "base_uri": "https://localhost:8080/"
        },
        "id": "FqR2shk9-uQU",
        "outputId": "c1f45bae-e99c-446d-9838-55268d7561a9"
      },
      "execution_count": 57,
      "outputs": [
        {
          "output_type": "execute_result",
          "data": {
            "text/plain": [
              "range(48, 57)"
            ]
          },
          "metadata": {},
          "execution_count": 57
        }
      ]
    },
    {
      "cell_type": "markdown",
      "source": [
        "실수로 숫자 to 영어 짜버림"
      ],
      "metadata": {
        "id": "2Luv_k9MDKMB"
      }
    },
    {
      "cell_type": "code",
      "source": [
        "def solution(s):\n",
        "    string=s\n",
        "    \n",
        "    dic={0:'zero',\n",
        "         1:'one',\n",
        "         2:'two',\n",
        "         3:'three',\n",
        "         4:'four',\n",
        "         5:'five',\n",
        "         6:'six',\n",
        "         7:'seven',\n",
        "         8:'eight',\n",
        "         9:'nine'\n",
        "         }\n",
        "\n",
        "    for i in range(len(string)):\n",
        "        if ord(string[i])>=ord('0') and ord(string[i])<=ord('9'):\n",
        "            string=string.replace(string[i], dic[int(string[i])].keys)\n",
        "\n",
        "    return string"
      ],
      "metadata": {
        "id": "VxL8Y99vDJ67"
      },
      "execution_count": null,
      "outputs": []
    },
    {
      "cell_type": "markdown",
      "source": [
        "## 제출한 코드"
      ],
      "metadata": {
        "id": "3KdhXB07DmKZ"
      }
    },
    {
      "cell_type": "code",
      "source": [
        "def solution(s):\n",
        "    string=s\n",
        "\n",
        "    dic={'zero':0, 'one':1, 'two':2, 'three':3, 'four':4, 'five':5,\n",
        "         'six':6, 'seven':7, 'eight':8, 'nine':9}\n",
        "\n",
        "    temp=\"\"\n",
        "    res=\"\"\n",
        "    for i in range(len(string)):\n",
        "        if ord(string[i])>=ord('a') and ord(string[i])<=ord('z'): # 영어면\n",
        "            temp+=string[i]\n",
        "            #print('temp:', temp)\n",
        "            if temp in dic.keys(): # 다 찼으면\n",
        "                res+=str(dic[temp])\n",
        "                temp=\"\" # 비우기\n",
        "        else: # 숫자면\n",
        "            res+=string[i]\n",
        "\n",
        "    return int(res)"
      ],
      "metadata": {
        "colab": {
          "base_uri": "https://localhost:8080/"
        },
        "id": "14gIYmDu-0hC",
        "outputId": "00af7bab-3f0f-4713-9b8b-7c466cceaa2b"
      },
      "execution_count": 76,
      "outputs": [
        {
          "output_type": "stream",
          "name": "stdout",
          "text": [
            "temp: f\n",
            "temp: fo\n",
            "temp: fou\n",
            "temp: four\n",
            "temp: s\n",
            "temp: si\n",
            "temp: six\n",
            "234567\n"
          ]
        }
      ]
    },
    {
      "cell_type": "code",
      "source": [
        "test='abcd'\n",
        "\n",
        "test.replace(test[1:3], 'o')"
      ],
      "metadata": {
        "colab": {
          "base_uri": "https://localhost:8080/",
          "height": 35
        },
        "id": "ZuH_40WZ_nP5",
        "outputId": "8cfdeea8-f22c-430e-a548-29fd8da984ff"
      },
      "execution_count": 70,
      "outputs": [
        {
          "output_type": "execute_result",
          "data": {
            "text/plain": [
              "'aod'"
            ],
            "application/vnd.google.colaboratory.intrinsic+json": {
              "type": "string"
            }
          },
          "metadata": {},
          "execution_count": 70
        }
      ]
    }
  ]
}