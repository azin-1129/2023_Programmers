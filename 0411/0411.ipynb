{
  "nbformat": 4,
  "nbformat_minor": 0,
  "metadata": {
    "colab": {
      "provenance": [],
      "collapsed_sections": [
        "AIVz7HDm97QU",
        "2oN7jMsi-AH0"
      ]
    },
    "kernelspec": {
      "name": "python3",
      "display_name": "Python 3"
    },
    "language_info": {
      "name": "python"
    }
  },
  "cells": [
    {
      "cell_type": "markdown",
      "source": [
        "#1. K번째수"
      ],
      "metadata": {
        "id": "AIVz7HDm97QU"
      }
    },
    {
      "cell_type": "markdown",
      "source": [
        "5분 소요"
      ],
      "metadata": {
        "id": "vn0es1kf99Pm"
      }
    },
    {
      "cell_type": "code",
      "execution_count": null,
      "metadata": {
        "id": "x7QO3zQS95dm"
      },
      "outputs": [],
      "source": [
        "def solution(array, commands):\n",
        "    return [sorted(array[i-1:j])[k-1] for i,j,k in commands]"
      ]
    },
    {
      "cell_type": "markdown",
      "source": [
        "---"
      ],
      "metadata": {
        "id": "9H-BowJC-CDH"
      }
    },
    {
      "cell_type": "markdown",
      "source": [
        "#2. 2016년"
      ],
      "metadata": {
        "id": "2oN7jMsi-AH0"
      }
    },
    {
      "cell_type": "markdown",
      "source": [
        "사이트마다 올라온 말일이 다름 ..\n",
        "20분 소요"
      ],
      "metadata": {
        "id": "sBEqCNdpDJmR"
      }
    },
    {
      "cell_type": "code",
      "source": [
        "def solution(a, b):\n",
        "    a=int(a)\n",
        "    b=int(b)\n",
        "    \n",
        "    m_day=[0,31,29,31,30,31,30,31,31,30,31,30,31]\n",
        "    dic_d={0:'THU',1:'FRI', 2:'SAT', 3:'SUN', 4:'MON', 5:'TUE',\n",
        "          6:'WED'}\n",
        "    \n",
        "    day=0\n",
        "    \n",
        "    if a>=2:\n",
        "        day=sum(m_day[:a])+b\n",
        "    else:\n",
        "        day=b\n",
        "        \n",
        "    return dic_d[day%7]"
      ],
      "metadata": {
        "colab": {
          "base_uri": "https://localhost:8080/",
          "height": 35
        },
        "id": "S7V6ighM_nFY",
        "outputId": "7d8c3f96-e721-4d38-906c-81b5004873f0"
      },
      "execution_count": null,
      "outputs": [
        {
          "output_type": "execute_result",
          "data": {
            "text/plain": [
              "'TUE'"
            ],
            "application/vnd.google.colaboratory.intrinsic+json": {
              "type": "string"
            }
          },
          "metadata": {},
          "execution_count": 5
        }
      ]
    },
    {
      "cell_type": "markdown",
      "source": [
        "---"
      ],
      "metadata": {
        "id": "7Vw0Z18qDPpH"
      }
    },
    {
      "cell_type": "markdown",
      "source": [
        "#3. 모의고사"
      ],
      "metadata": {
        "id": "hT2rAiajDRXm"
      }
    },
    {
      "cell_type": "code",
      "source": [
        "1 & 0"
      ],
      "metadata": {
        "colab": {
          "base_uri": "https://localhost:8080/"
        },
        "id": "WmeT-eANB2p3",
        "outputId": "d9c48450-83e3-4e04-cf4b-7f3e64204392"
      },
      "execution_count": null,
      "outputs": [
        {
          "output_type": "execute_result",
          "data": {
            "text/plain": [
              "0"
            ]
          },
          "metadata": {},
          "execution_count": 7
        }
      ]
    },
    {
      "cell_type": "code",
      "source": [
        "(1,0) & (0,1)"
      ],
      "metadata": {
        "colab": {
          "base_uri": "https://localhost:8080/",
          "height": 173
        },
        "id": "iK2PbUysHmbh",
        "outputId": "bc23dac4-62e8-4abb-9aef-81702cf63875"
      },
      "execution_count": null,
      "outputs": [
        {
          "output_type": "error",
          "ename": "TypeError",
          "evalue": "ignored",
          "traceback": [
            "\u001b[0;31m---------------------------------------------------------------------------\u001b[0m",
            "\u001b[0;31mTypeError\u001b[0m                                 Traceback (most recent call last)",
            "\u001b[0;32m<ipython-input-8-914875198a62>\u001b[0m in \u001b[0;36m<cell line: 1>\u001b[0;34m()\u001b[0m\n\u001b[0;32m----> 1\u001b[0;31m \u001b[0;34m(\u001b[0m\u001b[0;36m1\u001b[0m\u001b[0;34m,\u001b[0m\u001b[0;36m0\u001b[0m\u001b[0;34m)\u001b[0m \u001b[0;34m&\u001b[0m \u001b[0;34m(\u001b[0m\u001b[0;36m0\u001b[0m\u001b[0;34m,\u001b[0m\u001b[0;36m1\u001b[0m\u001b[0;34m)\u001b[0m\u001b[0;34m\u001b[0m\u001b[0;34m\u001b[0m\u001b[0m\n\u001b[0m",
            "\u001b[0;31mTypeError\u001b[0m: unsupported operand type(s) for &: 'tuple' and 'tuple'"
          ]
        }
      ]
    },
    {
      "cell_type": "code",
      "source": [
        "[1,2,3,4]*2"
      ],
      "metadata": {
        "colab": {
          "base_uri": "https://localhost:8080/"
        },
        "id": "BJLE897pH0xW",
        "outputId": "e854dedf-2d7b-4bc4-db91-8472ff91e32b"
      },
      "execution_count": null,
      "outputs": [
        {
          "output_type": "execute_result",
          "data": {
            "text/plain": [
              "[1, 2, 3, 4, 1, 2, 3, 4]"
            ]
          },
          "metadata": {},
          "execution_count": 9
        }
      ]
    },
    {
      "cell_type": "markdown",
      "source": [
        "최대 점수인 사람만 출력하는 게 아닌 모든 점수를 출력해버림"
      ],
      "metadata": {
        "id": "F2ftFDW-TZRd"
      }
    },
    {
      "cell_type": "code",
      "source": [
        "answers=[1,3,2,4,2]\n",
        "\n",
        "pattern1=[1,2,3,4,5]\n",
        "pattern2=[2,1,2,3,2,4,2,5]\n",
        "pattern3=[3,3,1,1,2,2,4,4,5,5]\n",
        "\n",
        "pt1_len=len(pattern1)\n",
        "pt2_len=len(pattern2)\n",
        "pt3_len=len(pattern3)\n",
        "ans_len=len(answers)\n",
        " \n",
        "if pt1_len<ans_len or pt2_len<ans_len or pt3_len<ans_len:\n",
        "    pattern1*=ans_len//pt1_len+1\n",
        "    pattern2*=ans_len//pt2_len+1\n",
        "    pattern3*=ans_len//pt3_len+1\n",
        "\n",
        "scores=[]\n",
        "idx=0\n",
        "\n",
        "for ans_line in [pattern1, pattern2, pattern3]:\n",
        "    idx+=1\n",
        "    score=0\n",
        "    print('ans_line:', ans_line)\n",
        "    print('ans:', answers)\n",
        "    for i in range(len(ans_line)):\n",
        "        if i>=ans_len:\n",
        "            break # 답안보다 패딩한 패턴이 길음\n",
        "        if answers[i]== ans_line[i]:\n",
        "            score+=1\n",
        "            \n",
        "    if score==0:\n",
        "        continue\n",
        "    else: \n",
        "        scores.append((idx,score))\n",
        "        print('score:',score)\n",
        "        \n",
        "scores=sorted(scores, key=lambda x:x[1])\n",
        "\n",
        "print(scores)\n",
        "rank=[]\n",
        "\n",
        "for s in scores:\n",
        "    rank.append(s[0])\n",
        "        \n",
        "rank"
      ],
      "metadata": {
        "colab": {
          "base_uri": "https://localhost:8080/"
        },
        "id": "xB61wd9-IYO6",
        "outputId": "cd73f9b6-82fe-4403-ab73-89bdf641ca96"
      },
      "execution_count": null,
      "outputs": [
        {
          "output_type": "stream",
          "name": "stdout",
          "text": [
            "ans_line: [1, 2, 3, 4, 5]\n",
            "ans: [1, 3, 2, 4, 2]\n",
            "score: 2\n",
            "ans_line: [2, 1, 2, 3, 2, 4, 2, 5]\n",
            "ans: [1, 3, 2, 4, 2]\n",
            "score: 2\n",
            "ans_line: [3, 3, 1, 1, 2, 2, 4, 4, 5, 5]\n",
            "ans: [1, 3, 2, 4, 2]\n",
            "score: 2\n",
            "[(1, 2), (2, 2), (3, 2)]\n"
          ]
        },
        {
          "output_type": "execute_result",
          "data": {
            "text/plain": [
              "[1, 2, 3]"
            ]
          },
          "metadata": {},
          "execution_count": 23
        }
      ]
    },
    {
      "cell_type": "code",
      "source": [
        "scores=[(1,20),(2,30),(3,40),(4,50),(5,60)]\n",
        "max_score=50"
      ],
      "metadata": {
        "id": "OxZ-8XU3UBFt"
      },
      "execution_count": null,
      "outputs": []
    },
    {
      "cell_type": "code",
      "source": [
        "sco=[]\n",
        "\n",
        "for s in scores:\n",
        "    if s[1]==max_score:\n",
        "        sco.append(s)\n",
        "    else:\n",
        "        continue\n",
        "\n",
        "scores=sorted(sco, key=lambda x:x[1])\n",
        "\n",
        "scores"
      ],
      "metadata": {
        "colab": {
          "base_uri": "https://localhost:8080/"
        },
        "id": "9KvNQD4hLnwm",
        "outputId": "06713448-af28-4ceb-cd66-7ba114758c45"
      },
      "execution_count": null,
      "outputs": [
        {
          "output_type": "execute_result",
          "data": {
            "text/plain": [
              "[(4, 50)]"
            ]
          },
          "metadata": {},
          "execution_count": 46
        }
      ]
    },
    {
      "cell_type": "code",
      "source": [
        "max(sco[1] for sco in scores)"
      ],
      "metadata": {
        "colab": {
          "base_uri": "https://localhost:8080/"
        },
        "id": "YRDtxoJeUW5h",
        "outputId": "c580b0f9-a027-49f9-cc23-83af46fa4657"
      },
      "execution_count": null,
      "outputs": [
        {
          "output_type": "execute_result",
          "data": {
            "text/plain": [
              "50"
            ]
          },
          "metadata": {},
          "execution_count": 49
        }
      ]
    },
    {
      "cell_type": "markdown",
      "source": [
        "## 제출한 코드"
      ],
      "metadata": {
        "id": "TbYru4BpW2y3"
      }
    },
    {
      "cell_type": "markdown",
      "source": [
        "56분 소요"
      ],
      "metadata": {
        "id": "rXQSMf6ZW37F"
      }
    },
    {
      "cell_type": "code",
      "source": [
        "answers=[1,3,2,4,2]\n",
        "\n",
        "pattern1=[1,2,3,4,5]\n",
        "pattern2=[2,1,2,3,2,4,2,5]\n",
        "pattern3=[3,3,1,1,2,2,4,4,5,5]\n",
        "\n",
        "pt1_len=len(pattern1)\n",
        "pt2_len=len(pattern2)\n",
        "pt3_len=len(pattern3)\n",
        "ans_len=len(answers)\n",
        " \n",
        "if pt1_len<ans_len or pt2_len<ans_len or pt3_len<ans_len:\n",
        "    pattern1*=ans_len//pt1_len+1\n",
        "    pattern2*=ans_len//pt2_len+1\n",
        "    pattern3*=ans_len//pt3_len+1\n",
        "\n",
        "scores=[]\n",
        "idx=0\n",
        "\n",
        "for ans_line in [pattern1, pattern2, pattern3]:\n",
        "    idx+=1\n",
        "    score=0\n",
        "    print('ans_line:', ans_line)\n",
        "    print('ans:', answers)\n",
        "    for i in range(len(ans_line)):\n",
        "        if i>=ans_len:\n",
        "            break # 답안보다 패딩한 패턴이 길음\n",
        "        if answers[i]== ans_line[i]:\n",
        "            score+=1\n",
        "            \n",
        "    if score==0:\n",
        "        continue\n",
        "    else: \n",
        "        # if max_score<score:\n",
        "        #     max_score=score # 최대 점수 갱신\n",
        "        scores.append((idx,score))\n",
        "        print('score:',score)\n",
        "        \n",
        "scores=sorted(scores, key=lambda x:x[1])\n",
        "\n",
        "max_score=max(sco[1] for sco in scores)\n",
        "\n",
        "print(scores)\n",
        "rank=[]\n",
        "\n",
        "for s in scores:\n",
        "    if s[1]==max_score: # 최대 점수일 경우에만 append\n",
        "        rank.append(s[0])\n",
        "        \n",
        "rank"
      ],
      "metadata": {
        "colab": {
          "base_uri": "https://localhost:8080/"
        },
        "id": "a92fdJPITe9e",
        "outputId": "a5e81bcb-0167-4c07-a6ce-5f832c195287"
      },
      "execution_count": null,
      "outputs": [
        {
          "output_type": "stream",
          "name": "stdout",
          "text": [
            "ans_line: [1, 2, 3, 4, 5]\n",
            "ans: [1, 3, 2, 4, 2]\n",
            "score: 2\n",
            "ans_line: [2, 1, 2, 3, 2, 4, 2, 5]\n",
            "ans: [1, 3, 2, 4, 2]\n",
            "score: 2\n",
            "ans_line: [3, 3, 1, 1, 2, 2, 4, 4, 5, 5]\n",
            "ans: [1, 3, 2, 4, 2]\n",
            "score: 2\n",
            "[(1, 2), (2, 2), (3, 2)]\n"
          ]
        },
        {
          "output_type": "execute_result",
          "data": {
            "text/plain": [
              "[1, 2, 3]"
            ]
          },
          "metadata": {},
          "execution_count": 51
        }
      ]
    },
    {
      "cell_type": "code",
      "source": [],
      "metadata": {
        "id": "O7jcUv3aUdrv"
      },
      "execution_count": null,
      "outputs": []
    },
    {
      "cell_type": "markdown",
      "source": [
        "#4. 크기가 작은 부분 문자열"
      ],
      "metadata": {
        "id": "E2lMONKXAHme"
      }
    },
    {
      "cell_type": "markdown",
      "source": [
        "8~10분?"
      ],
      "metadata": {
        "id": "750vkyPYAmhX"
      }
    },
    {
      "cell_type": "code",
      "source": [
        "def solution(t, p):\n",
        "    cnt=0\n",
        "    \n",
        "    s_len=len(p)\n",
        "    num=int(p)\n",
        "    \n",
        "    for idx in range(len(t)-s_len+1):\n",
        "        if int(t[idx:idx+s_len])<=num:\n",
        "            cnt+=1\n",
        "            \n",
        "    return cnt"
      ],
      "metadata": {
        "colab": {
          "base_uri": "https://localhost:8080/"
        },
        "id": "GaoJmWoJAK9P",
        "outputId": "2d0a584a-d3be-4a81-bfdd-ee1a7c1675dc"
      },
      "execution_count": 55,
      "outputs": [
        {
          "output_type": "stream",
          "name": "stdout",
          "text": [
            "10\n",
            "02\n",
            "20\n",
            "03\n"
          ]
        }
      ]
    }
  ]
}