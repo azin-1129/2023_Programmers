{
  "nbformat": 4,
  "nbformat_minor": 0,
  "metadata": {
    "colab": {
      "provenance": []
    },
    "kernelspec": {
      "name": "python3",
      "display_name": "Python 3"
    },
    "language_info": {
      "name": "python"
    }
  },
  "cells": [
    {
      "cell_type": "markdown",
      "source": [
        "#1. 개인정보 수집 유효기간"
      ],
      "metadata": {
        "id": "aagMsxMYHEaT"
      }
    },
    {
      "cell_type": "markdown",
      "source": [
        "42분 소요"
      ],
      "metadata": {
        "id": "Qhhx_qSGHHpU"
      }
    },
    {
      "cell_type": "code",
      "execution_count": 1,
      "metadata": {
        "id": "UcIrhIgS_rwG"
      },
      "outputs": [],
      "source": [
        "today=\"2022.05.19\"\n",
        "terms=[\"A 6\",\n",
        "       \"B 12\",\n",
        "       \"C 3\"]\n",
        "\n",
        "privacies=[\"2021.05.02 A\", \"2021.07.01 B\", \"2022.02.19 C\", \"2022.02.20 C\"]"
      ]
    },
    {
      "cell_type": "code",
      "source": [
        "term_dict={}\n",
        "\n",
        "for t in terms:\n",
        "    k,v=t.split(' ')\n",
        "\n",
        "    term_dict[k]=int(v)\n",
        "\n",
        "term_dict"
      ],
      "metadata": {
        "colab": {
          "base_uri": "https://localhost:8080/"
        },
        "id": "6UOZ_UNcA4bJ",
        "outputId": "3bc049a4-c4f4-4fd9-8565-a6bf46832188"
      },
      "execution_count": 6,
      "outputs": [
        {
          "output_type": "execute_result",
          "data": {
            "text/plain": [
              "{'A': 6, 'B': 12, 'C': 3}"
            ]
          },
          "metadata": {},
          "execution_count": 6
        }
      ]
    },
    {
      "cell_type": "code",
      "source": [
        "tod=today.split('.')\n",
        "priv, ord=privacies[0].split(' ')\n",
        "print(tod, priv, ord)"
      ],
      "metadata": {
        "colab": {
          "base_uri": "https://localhost:8080/"
        },
        "id": "UY8XnlLm_0LQ",
        "outputId": "5a814b73-956c-432b-c906-980149461994"
      },
      "execution_count": 2,
      "outputs": [
        {
          "output_type": "stream",
          "name": "stdout",
          "text": [
            "['2022', '05', '19'] 2021.05.02 A\n"
          ]
        }
      ]
    },
    {
      "cell_type": "code",
      "source": [
        "priv=priv.split('.')\n",
        "priv"
      ],
      "metadata": {
        "colab": {
          "base_uri": "https://localhost:8080/"
        },
        "id": "m-OUFMcTAdGh",
        "outputId": "32570553-cb07-4cb2-a277-e27500caa400"
      },
      "execution_count": 3,
      "outputs": [
        {
          "output_type": "execute_result",
          "data": {
            "text/plain": [
              "['2021', '05', '02']"
            ]
          },
          "metadata": {},
          "execution_count": 3
        }
      ]
    },
    {
      "cell_type": "code",
      "source": [
        "calc=[280, 28, 1]\n",
        "\n",
        "today_d=0\n",
        "end_d=0\n",
        "\n",
        "for i in range(3):\n",
        "    today_d+=int(tod[i])*calc[i]\n",
        "    end_d+=int(priv[i])*calc[i]\n",
        "\n",
        "print(today_d, end_d)"
      ],
      "metadata": {
        "colab": {
          "base_uri": "https://localhost:8080/"
        },
        "id": "sEKkKwAiAIY0",
        "outputId": "3cf89a0f-1cde-45e8-e9df-1e48a3e037f9"
      },
      "execution_count": 4,
      "outputs": [
        {
          "output_type": "stream",
          "name": "stdout",
          "text": [
            "566319 566022\n"
          ]
        }
      ]
    },
    {
      "cell_type": "code",
      "source": [
        "diff=today_d-end_d"
      ],
      "metadata": {
        "id": "9Z80oTaRAmNW"
      },
      "execution_count": 5,
      "outputs": []
    },
    {
      "cell_type": "code",
      "source": [
        "if diff>=term_dict[ord]*28:\n",
        "    print('파기')"
      ],
      "metadata": {
        "colab": {
          "base_uri": "https://localhost:8080/"
        },
        "id": "xQwEOLAyAqmV",
        "outputId": "2e8d1035-6e0b-4a6b-d749-55ee71a7522b"
      },
      "execution_count": 7,
      "outputs": [
        {
          "output_type": "stream",
          "name": "stdout",
          "text": [
            "파기\n"
          ]
        }
      ]
    },
    {
      "cell_type": "code",
      "source": [
        "today=\"2020.01.01\"\n",
        "terms=[\"Z 3\",\n",
        "       \"D 5\"]\n",
        "\n",
        "privacies=[\"2019.01.01 D\", \"2019.11.15 Z\", \"2019.08.02 D\",\n",
        "           \"2019.07.01 D\", \"2018.12.28 Z\"]"
      ],
      "metadata": {
        "id": "8tiL7PEMFTQY"
      },
      "execution_count": 18,
      "outputs": []
    },
    {
      "cell_type": "code",
      "source": [
        "term_dict={}\n",
        "calc=[336,28,1]\n",
        "del_list=[] # 파기 리스트\n",
        "\n",
        "for t in terms:\n",
        "    k,v=t.split(' ')\n",
        "    \n",
        "    term_dict[k]=int(v)\n",
        "\n",
        "print(term_dict)\n",
        "    \n",
        "tod=today.split('.')\n",
        "print('tod:',tod)\n",
        "\n",
        "idx=1\n",
        "\n",
        "for priva in privacies:\n",
        "    priv, order=priva.split(' ') # priv: 약관 만료날, ord: 약관 종류\n",
        "    priv=priv.split('.')\n",
        "    \n",
        "    print('priv:',priv,'order:',order)\n",
        "    today_d=0\n",
        "    end_d=0\n",
        "    \n",
        "    for i in range(3): # 현재일, 만료일 일수 계산\n",
        "        today_d+=int(tod[i])*calc[i]\n",
        "        end_d+=int(priv[i])*calc[i]\n",
        "        \n",
        "    diff=today_d-end_d # 경과일 수\n",
        "    print('경과일:',diff, '만료일:', term_dict[order]*28)\n",
        "    \n",
        "    if diff>=term_dict[order]*28:\n",
        "        print('만료 처리,',idx)\n",
        "        del_list.append(idx)\n",
        "        \n",
        "    idx+=1\n",
        "    print(i)\n",
        "    print()\n",
        "\n",
        "del_list"
      ],
      "metadata": {
        "colab": {
          "base_uri": "https://localhost:8080/"
        },
        "id": "qlGq-EzfBVYQ",
        "outputId": "5c94a498-49c8-49ef-fefd-88f4b2808ebb"
      },
      "execution_count": 22,
      "outputs": [
        {
          "output_type": "stream",
          "name": "stdout",
          "text": [
            "{'Z': 3, 'D': 5}\n",
            "tod: ['2020', '01', '01']\n",
            "priv: ['2019', '01', '01'] order: D\n",
            "경과일: 280 만료일: 140\n",
            "만료 처리, 1\n",
            "2\n",
            "\n",
            "priv: ['2019', '11', '15'] order: Z\n",
            "경과일: -14 만료일: 84\n",
            "2\n",
            "\n",
            "priv: ['2019', '08', '02'] order: D\n",
            "경과일: 83 만료일: 140\n",
            "2\n",
            "\n",
            "priv: ['2019', '07', '01'] order: D\n",
            "경과일: 112 만료일: 140\n",
            "2\n",
            "\n",
            "priv: ['2018', '12', '28'] order: Z\n",
            "경과일: 225 만료일: 84\n",
            "만료 처리, 5\n",
            "2\n",
            "\n"
          ]
        },
        {
          "output_type": "execute_result",
          "data": {
            "text/plain": [
              "[1, 5]"
            ]
          },
          "metadata": {},
          "execution_count": 22
        }
      ]
    },
    {
      "cell_type": "code",
      "source": [
        "(2020*280+1*28+1)-(2019*280+7*28+15)"
      ],
      "metadata": {
        "colab": {
          "base_uri": "https://localhost:8080/"
        },
        "id": "qbfa9-hCDClZ",
        "outputId": "1743615a-a22c-4fb7-f9ad-cbd7a46c8813"
      },
      "execution_count": 27,
      "outputs": [
        {
          "output_type": "execute_result",
          "data": {
            "text/plain": [
              "98"
            ]
          },
          "metadata": {},
          "execution_count": 27
        }
      ]
    },
    {
      "cell_type": "code",
      "source": [
        "28*12"
      ],
      "metadata": {
        "colab": {
          "base_uri": "https://localhost:8080/"
        },
        "id": "OW_F_8udDFXY",
        "outputId": "7c783635-9e6f-4cc1-9878-1d91550bd5ce"
      },
      "execution_count": 28,
      "outputs": [
        {
          "output_type": "execute_result",
          "data": {
            "text/plain": [
              "336"
            ]
          },
          "metadata": {},
          "execution_count": 28
        }
      ]
    },
    {
      "cell_type": "markdown",
      "source": [
        "뭔가 비효율적으로 푼 거 같음"
      ],
      "metadata": {
        "id": "yCXFbn8WG9zA"
      }
    },
    {
      "cell_type": "markdown",
      "source": [
        "## 제출한 코드"
      ],
      "metadata": {
        "id": "IoWbhZoTHAWg"
      }
    },
    {
      "cell_type": "code",
      "source": [
        "def solution(today, terms, privacies):\n",
        "    term_dict={}\n",
        "    calc=[336,28,1]\n",
        "    del_list=[] # 파기 리스트\n",
        "    \n",
        "    for t in terms:\n",
        "        k,v=t.split(' ')\n",
        "        \n",
        "        term_dict[k]=int(v)\n",
        "        \n",
        "    tod=today.split('.')\n",
        "    \n",
        "    idx=1\n",
        "    \n",
        "    for priva in privacies:\n",
        "        priv, order=priva.split(' ') # priv: 약관 만료날, ord: 약관 종류\n",
        "        priv=priv.split('.')\n",
        "        \n",
        "        today_d=0\n",
        "        end_d=0\n",
        "        \n",
        "        for i in range(3): # 현재일, 만료일 일수 계산\n",
        "            today_d+=int(tod[i])*calc[i]\n",
        "            end_d+=int(priv[i])*calc[i]\n",
        "\n",
        "        diff=today_d-end_d # 경과일 수\n",
        "\n",
        "        if diff>=term_dict[order]*28:\n",
        "            del_list.append(idx)\n",
        "\n",
        "        idx+=1\n",
        "    return del_list"
      ],
      "metadata": {
        "id": "RW1U1W6EGwvq"
      },
      "execution_count": null,
      "outputs": []
    },
    {
      "cell_type": "markdown",
      "source": [
        "---"
      ],
      "metadata": {
        "id": "8IBwB9s8HCxg"
      }
    },
    {
      "cell_type": "markdown",
      "source": [
        "#2. 성격 유형 검사하기"
      ],
      "metadata": {
        "id": "kZw5PKAmZtAZ"
      }
    },
    {
      "cell_type": "markdown",
      "source": [
        "50분 날리고 실패."
      ],
      "metadata": {
        "id": "eD0zShZoZvBp"
      }
    },
    {
      "cell_type": "code",
      "source": [
        "dic={}\n",
        "\n",
        "dic['a']=1\n",
        "\n",
        "dic['a']+=1"
      ],
      "metadata": {
        "id": "rQT1RTtSHDKt"
      },
      "execution_count": 29,
      "outputs": []
    },
    {
      "cell_type": "code",
      "source": [
        "dic"
      ],
      "metadata": {
        "colab": {
          "base_uri": "https://localhost:8080/"
        },
        "id": "vx0gLEOtQcf3",
        "outputId": "570a1520-cf7f-484d-cc9a-f79371a8e602"
      },
      "execution_count": 30,
      "outputs": [
        {
          "output_type": "execute_result",
          "data": {
            "text/plain": [
              "{'a': 2}"
            ]
          },
          "metadata": {},
          "execution_count": 30
        }
      ]
    },
    {
      "cell_type": "code",
      "source": [
        "servey=[\"TR\", \"RT\", \"TR\"]\n",
        "choices=[7, 1, 3]"
      ],
      "metadata": {
        "id": "9hQ37OGdTuKT"
      },
      "execution_count": 53,
      "outputs": []
    },
    {
      "cell_type": "code",
      "source": [
        "len(servey)"
      ],
      "metadata": {
        "colab": {
          "base_uri": "https://localhost:8080/"
        },
        "id": "8m_TfKXlUkK6",
        "outputId": "02d99597-9f5a-44b9-d182-395f1377fcef"
      },
      "execution_count": 33,
      "outputs": [
        {
          "output_type": "execute_result",
          "data": {
            "text/plain": [
              "5"
            ]
          },
          "metadata": {},
          "execution_count": 33
        }
      ]
    },
    {
      "cell_type": "code",
      "source": [
        "scores={'R':0, 'C':0, 'J':0, 'A':0, 'T':0, 'F':0, 'M':0, 'N':0}\n",
        "default=['R', 'C', 'J', 'A']\n",
        "idx=['R','C','J','A','T','F','M','N']\n",
        "\n",
        "chk_tmp=[]\n",
        "\n",
        "for j in range(len(servey)): # 점수 부여\n",
        "    if choices[j]<4:\n",
        "        scores[servey[j][0]]+=(4-choices[j])\n",
        "    elif choices[j]>4:\n",
        "        scores[servey[j][1]]+=(choices[j]-4)\n",
        "\n",
        "#print('scores:', scores)    \n",
        "\n",
        "for k in scores:\n",
        "    #print('k:',k, 'v:',scores[k])\n",
        "    if scores[k]==0:\n",
        "        continue\n",
        "    else:\n",
        "        #print(scores[k])\n",
        "        chk_tmp.append(k)\n",
        "\n",
        "print('chk_tmp:', chk_tmp)\n",
        "for i in range(4):\n",
        "    if default[i] not in chk_tmp: # 갱신 필요\n",
        "        f_s=scores[default[i]]\n",
        "        b_s=scores[idx[idx.index(default[i])+4]]\n",
        "\n",
        "        if f_s>=b_s: # 변경 필요없음\n",
        "            continue\n",
        "        else:\n",
        "            #print('default:', default)\n",
        "            #print(i,'번째 변경')\n",
        "            default[i]=idx[idx.index(default[i])+4]\n",
        "            #print('변경된 default:', default)\n",
        "    else:\n",
        "        pass #idx[idx.index(default[i])+4]\n",
        "print(''.join(default))"
      ],
      "metadata": {
        "colab": {
          "base_uri": "https://localhost:8080/"
        },
        "id": "fwc3sY2uQc-B",
        "outputId": "b7a77f4e-21a1-4217-976e-0b5ce1090821"
      },
      "execution_count": 55,
      "outputs": [
        {
          "output_type": "stream",
          "name": "stdout",
          "text": [
            "chk_tmp: ['R', 'T']\n",
            "RCJA\n"
          ]
        }
      ]
    },
    {
      "cell_type": "code",
      "source": [
        "for s in scores:\n",
        "    print(s)"
      ],
      "metadata": {
        "colab": {
          "base_uri": "https://localhost:8080/"
        },
        "id": "N9hndNUuUfaC",
        "outputId": "63307dd7-b739-46f4-ec93-5de9a8943d14"
      },
      "execution_count": 44,
      "outputs": [
        {
          "output_type": "stream",
          "name": "stdout",
          "text": [
            "R\n",
            "C\n",
            "J\n",
            "A\n",
            "T\n",
            "F\n",
            "M\n",
            "N\n"
          ]
        }
      ]
    },
    {
      "cell_type": "code",
      "source": [],
      "metadata": {
        "id": "0ZUKqYQTWRkf"
      },
      "execution_count": null,
      "outputs": []
    }
  ]
}